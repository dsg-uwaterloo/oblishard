{
 "cells": [
  {
   "cell_type": "code",
   "execution_count": 1,
   "id": "5a04ee9c-c549-4d97-8b2f-2b2395be9c47",
   "metadata": {},
   "outputs": [],
   "source": [
    "import matplotlib.pyplot as plt"
   ]
  },
  {
   "cell_type": "code",
   "execution_count": null,
   "id": "653fdf04-3fbb-44c6-869b-1be70d60b7dc",
   "metadata": {},
   "outputs": [],
   "source": [
    "def parse_experiment_output(): # returns (throughput, average_latency) tuple"
   ]
  }
 ],
 "metadata": {
  "kernelspec": {
   "display_name": "Python 3 (ipykernel)",
   "language": "python",
   "name": "python3"
  },
  "language_info": {
   "codemirror_mode": {
    "name": "ipython",
    "version": 3
   },
   "file_extension": ".py",
   "mimetype": "text/x-python",
   "name": "python",
   "nbconvert_exporter": "python",
   "pygments_lexer": "ipython3",
   "version": "3.9.6"
  }
 },
 "nbformat": 4,
 "nbformat_minor": 5
}
